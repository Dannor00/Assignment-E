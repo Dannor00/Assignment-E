{
 "cells": [
  {
   "cell_type": "code",
   "execution_count": 5,
   "id": "69ea6c21-f3d3-48cb-999d-5132dd9bcb8c",
   "metadata": {
    "tags": []
   },
   "outputs": [
    {
     "name": "stdout",
     "output_type": "stream",
     "text": [
      "=== Dummy Classifier (baseline) ===\n",
      "              precision    recall  f1-score   support\n",
      "\n",
      "           0       0.95      1.00      0.98    171388\n",
      "           1       0.00      0.00      0.00      8612\n",
      "\n",
      "    accuracy                           0.95    180000\n",
      "   macro avg       0.48      0.50      0.49    180000\n",
      "weighted avg       0.91      0.95      0.93    180000\n",
      "\n"
     ]
    },
    {
     "name": "stderr",
     "output_type": "stream",
     "text": [
      "C:\\Users\\Danie\\anaconda3\\Lib\\site-packages\\sklearn\\metrics\\_classification.py:1469: UndefinedMetricWarning: Precision and F-score are ill-defined and being set to 0.0 in labels with no predicted samples. Use `zero_division` parameter to control this behavior.\n",
      "  _warn_prf(average, modifier, msg_start, len(result))\n",
      "C:\\Users\\Danie\\anaconda3\\Lib\\site-packages\\sklearn\\metrics\\_classification.py:1469: UndefinedMetricWarning: Precision and F-score are ill-defined and being set to 0.0 in labels with no predicted samples. Use `zero_division` parameter to control this behavior.\n",
      "  _warn_prf(average, modifier, msg_start, len(result))\n",
      "C:\\Users\\Danie\\anaconda3\\Lib\\site-packages\\sklearn\\metrics\\_classification.py:1469: UndefinedMetricWarning: Precision and F-score are ill-defined and being set to 0.0 in labels with no predicted samples. Use `zero_division` parameter to control this behavior.\n",
      "  _warn_prf(average, modifier, msg_start, len(result))\n"
     ]
    },
    {
     "name": "stdout",
     "output_type": "stream",
     "text": [
      "Confusion Matrix:\n",
      " [[171388      0]\n",
      " [  8612      0]]\n",
      "\n",
      "=== Logistic Regression ===\n",
      "              precision    recall  f1-score   support\n",
      "\n",
      "           0       1.00      1.00      1.00    171388\n",
      "           1       1.00      1.00      1.00      8612\n",
      "\n",
      "    accuracy                           1.00    180000\n",
      "   macro avg       1.00      1.00      1.00    180000\n",
      "weighted avg       1.00      1.00      1.00    180000\n",
      "\n",
      "Confusion Matrix:\n",
      " [[171388      0]\n",
      " [     0   8612]]\n",
      "\n",
      "=== Random Forest ===\n",
      "              precision    recall  f1-score   support\n",
      "\n",
      "           0       1.00      1.00      1.00    171388\n",
      "           1       1.00      1.00      1.00      8612\n",
      "\n",
      "    accuracy                           1.00    180000\n",
      "   macro avg       1.00      1.00      1.00    180000\n",
      "weighted avg       1.00      1.00      1.00    180000\n",
      "\n",
      "Confusion Matrix:\n",
      " [[171388      0]\n",
      " [     0   8612]]\n"
     ]
    },
    {
     "data": {
      "image/png": "[encoded data removed]",
      "text/plain": [
       "<Figure size 640x480 with 1 Axes>"
      ]
     },
     "metadata": {},
     "output_type": "display_data"
    }
   ],
   "source": [
    "# Import required libraries\n",
    "import pandas as pd\n",
    "from sklearn.model_selection import train_test_split\n",
    "from sklearn.linear_model import LogisticRegression\n",
    "from sklearn.ensemble import RandomForestClassifier\n",
    "from sklearn.dummy import DummyClassifier\n",
    "from sklearn.metrics import classification_report, confusion_matrix\n",
    "import seaborn as sns\n",
    "import matplotlib.pyplot as plt\n",
    "\n",
    "# Step 1: Load the dataset\n",
    "df = pd.read_csv(\"BLK.csv\")\n",
    "\n",
    "# Step 2: Clean the target column ('blkjck') which contains 'Win' and 'NoWin'\n",
    "df[\"blkjck\"] = df[\"blkjck\"].astype(str).str.strip().str.lower()\n",
    "\n",
    "# Step 3: Filter valid values only\n",
    "valid = df[\"blkjck\"].isin([\"win\", \"nowin\"])\n",
    "df = df[valid].copy()\n",
    "\n",
    "# Step 4: Convert 'win' to 1 and 'nowin' to 0\n",
    "df[\"blkjck\"] = df[\"blkjck\"].map({\"win\": 1, \"nowin\": 0})\n",
    "\n",
    "# Step 5: Select relevant features and target\n",
    "# We EXCLUDE 'ply2cardsum' to test for overfitting\n",
    "features = [\"card1\", \"card2\", \"dealcard1\"]\n",
    "X = df[features]\n",
    "y = df[\"blkjck\"]\n",
    "\n",
    "# Step 6: Split into training and test sets\n",
    "X_train, X_test, y_train, y_test = train_test_split(\n",
    "    X, y, test_size=0.2, stratify=y, random_state=42\n",
    ")\n",
    "\n",
    "# Step 7: Dummy Classifier (baseline)\n",
    "dummy = DummyClassifier(strategy=\"most_frequent\")\n",
    "dummy.fit(X_train, y_train)\n",
    "y_pred_dummy = dummy.predict(X_test)\n",
    "\n",
    "# Step 8: Logistic Regression\n",
    "logreg = LogisticRegression(max_iter=1000, class_weight='balanced')\n",
    "logreg.fit(X_train, y_train)\n",
    "y_pred_logreg = logreg.predict(X_test)\n",
    "\n",
    "# Step 9: Random Forest\n",
    "rf = RandomForestClassifier(n_estimators=100, max_depth=10, random_state=42, class_weight='balanced')\n",
    "rf.fit(X_train, y_train)\n",
    "y_pred_rf = rf.predict(X_test)\n",
    "\n",
    "# Step 10: Evaluation Results\n",
    "print(\"=== Dummy Classifier (baseline) ===\")\n",
    "print(classification_report(y_test, y_pred_dummy))\n",
    "print(\"Confusion Matrix:\\n\", confusion_matrix(y_test, y_pred_dummy))\n",
    "\n",
    "print(\"\\n=== Logistic Regression ===\")\n",
    "print(classification_report(y_test, y_pred_logreg))\n",
    "print(\"Confusion Matrix:\\n\", confusion_matrix(y_test, y_pred_logreg))\n",
    "\n",
    "print(\"\\n=== Random Forest ===\")\n",
    "print(classification_report(y_test, y_pred_rf))\n",
    "print(\"Confusion Matrix:\\n\", confusion_matrix(y_test, y_pred_rf))\n",
    "\n",
    "# Step 11: Visualize class distribution\n",
    "sns.countplot(x=\"blkjck\", data=df)\n",
    "plt.title(\"Class Distribution: Win (1) vs No Win (0)\")\n",
    "plt.xlabel(\"blkjck\")\n",
    "plt.ylabel(\"Count\")\n",
    "plt.show()\n",
    "\n"
   ]
  },
  {
   "cell_type": "code",
   "execution_count": null,
   "id": "0360850d-c0b0-4512-be58-f0510655255c",
   "metadata": {},
   "outputs": [],
   "source": []
  },
  {
   "cell_type": "code",
   "execution_count": null,
   "id": "97b7a57c-9a81-41b3-a7c2-7be2eb47d8da",
   "metadata": {},
   "outputs": [],
   "source": []
  }
 ],
 "metadata": {
  "kernelspec": {
   "display_name": "Python 3 (ipykernel)",
   "language": "python",
   "name": "python3"
  },
  "language_info": {
   "codemirror_mode": {
    "name": "ipython",
    "version": 3
   },
   "file_extension": ".py",
   "mimetype": "text/x-python",
   "name": "python",
   "nbconvert_exporter": "python",
   "pygments_lexer": "ipython3",
   "version": "3.11.4"
  }
 },
 "nbformat": 4,
 "nbformat_minor": 5
}
